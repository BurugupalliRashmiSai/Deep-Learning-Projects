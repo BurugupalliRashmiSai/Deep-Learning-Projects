{
 "cells": [
  {
   "cell_type": "markdown",
   "metadata": {
    "id": "2z-mZnNajlnk"
   },
   "source": [
    "133008100 DL CSCE 636 Project-1"
   ]
  },
  {
   "cell_type": "markdown",
   "metadata": {},
   "source": [
    "Instructions to run code\n",
    "\n",
    "1. Run \"preprocess_data\" function before running the model on test data. - X_test=preprocess_data(X_test)\n",
    "2. And then its a direct process. "
   ]
  },
  {
   "cell_type": "markdown",
   "metadata": {
    "id": "ZSsmlZY-gMUZ"
   },
   "source": [
    "Load Training data and labels"
   ]
  },
  {
   "cell_type": "code",
   "execution_count": 1,
   "metadata": {
    "id": "Y0C7uiy_cb2Q"
   },
   "outputs": [],
   "source": [
    "import tensorflow as tf\n",
    "from tensorflow.python.ops.numpy_ops import np_config\n",
    "np_config.enable_numpy_behavior()\n",
    "import pickle\n",
    "import matplotlib.pyplot as plt"
   ]
  },
  {
   "cell_type": "code",
   "execution_count": 2,
   "metadata": {
    "id": "l8sd-IfIb34e"
   },
   "outputs": [],
   "source": [
    "train_data_path=\"./636_project1_train_images\"\n",
    "train_labels_path=\"./636_project1_train_labels\"\n",
    "\n",
    "X_train=pickle.load(open(train_data_path, 'rb')) \n",
    "y_train=pickle.load(open(train_labels_path, 'rb')) "
   ]
  },
  {
   "cell_type": "markdown",
   "metadata": {
    "id": "jn1-QLGFg5bH"
   },
   "source": [
    "Before training, I preprocessed the data by reshaping it into the shape the network\n",
    "expects and scaling it so that all values are in the [0, 1] interval. The training\n",
    "images, for instance, were stored in an array of shape (60000, 28, 28) of type\n",
    "uint8 with values in the [0, 255] interval. We transform it into a float32 array of\n",
    "shape (60000, 28 * 28) with values between 0 and 1."
   ]
  },
  {
   "cell_type": "code",
   "execution_count": 3,
   "metadata": {},
   "outputs": [],
   "source": [
    "def preprocess_data(X_train):\n",
    "    X_train = X_train.reshape((60000, 28, 28, 1))\n",
    "    X_train = X_train.astype(\"float32\") / 255\n",
    "    return X_train"
   ]
  },
  {
   "cell_type": "code",
   "execution_count": 4,
   "metadata": {
    "colab": {
     "base_uri": "https://localhost:8080/"
    },
    "id": "i1eGsLF7cTfd",
    "outputId": "112f2272-5bda-4c0b-ceed-e09d2594146d"
   },
   "outputs": [
    {
     "data": {
      "text/plain": [
       "TensorShape([60000, 28, 28])"
      ]
     },
     "execution_count": 4,
     "metadata": {},
     "output_type": "execute_result"
    }
   ],
   "source": [
    "X_train.shape"
   ]
  },
  {
   "cell_type": "code",
   "execution_count": 5,
   "metadata": {
    "colab": {
     "base_uri": "https://localhost:8080/"
    },
    "id": "VEoPjS2XcUM-",
    "outputId": "c85f847e-0c11-4190-e031-2d1f99458995"
   },
   "outputs": [
    {
     "data": {
      "text/plain": [
       "TensorShape([60000])"
      ]
     },
     "execution_count": 5,
     "metadata": {},
     "output_type": "execute_result"
    }
   ],
   "source": [
    "y_train.shape"
   ]
  },
  {
   "cell_type": "code",
   "execution_count": 6,
   "metadata": {},
   "outputs": [
    {
     "data": {
      "text/plain": [
       "{0, 1, 2, 3, 4, 5, 6, 7, 8, 9}"
      ]
     },
     "execution_count": 6,
     "metadata": {},
     "output_type": "execute_result"
    }
   ],
   "source": [
    "import numpy as np\n",
    "set(np.array(y_train))"
   ]
  },
  {
   "cell_type": "code",
   "execution_count": 7,
   "metadata": {},
   "outputs": [
    {
     "name": "stdout",
     "output_type": "stream",
     "text": [
      "tf.Tensor(6, shape=(), dtype=uint8)\n"
     ]
    },
    {
     "data": {
      "image/png": "[encoded data removed]",
      "text/plain": [
       "<Figure size 432x288 with 1 Axes>"
      ]
     },
     "metadata": {
      "needs_background": "light"
     },
     "output_type": "display_data"
    }
   ],
   "source": [
    "digit = X_train[103]\n",
    "print(y_train[103])\n",
    "plt.imshow(digit, cmap=plt.cm.binary)\n",
    "plt.show()"
   ]
  },
  {
   "cell_type": "code",
   "execution_count": 8,
   "metadata": {},
   "outputs": [],
   "source": [
    "X_train=preprocess_data(X_train)"
   ]
  },
  {
   "cell_type": "markdown",
   "metadata": {},
   "source": [
    "In the case of noisy image data, Conv2DTranspose can be used to recover the original image from the noisy image. The layer learns to reverse the effects of noise by learning a mapping from the noisy image to the original image. The deconvolution process helps in removing the noise and enhancing the details in the image.\n",
    "\n",
    "The Conv2DTranspose layer works by performing a convolution operation on the input with a learned set of filters, followed by a scaling operation to upsample the output to a larger size. The output of the layer is fed into subsequent layers for further processing.\n",
    "\n",
    "Batch normalization helps in stabilizing the input to each layer of the neural network, making the training process faster and more efficient. It can also help in reducing the effect of noise on the model by normalizing the inputs to each layer."
   ]
  },
  {
   "cell_type": "code",
   "execution_count": 13,
   "metadata": {},
   "outputs": [],
   "source": [
    "from tensorflow import keras\n",
    "from tensorflow.keras import layers\n",
    "inputs = keras.Input(shape=(28, 28, 1))\n",
    "x = layers.Conv2D(filters=64, kernel_size=3, activation=\"relu\")(inputs)\n",
    "x = layers.BatchNormalization()(x)\n",
    "x = layers.MaxPooling2D(pool_size=2)(x)\n",
    "x = layers.Dropout(0.5)(x)\n",
    "x = layers.Conv2DTranspose(32, 3, activation=\"relu\", padding=\"same\")(x)\n",
    "x = layers.Conv2D(filters=64, kernel_size=3, activation=\"relu\")(x)\n",
    "x = layers.MaxPooling2D(pool_size=2)(x)\n",
    "x = layers.Dropout(0.2)(x)\n",
    "x = layers.Conv2D(filters=128, kernel_size=3, activation=\"relu\")(x)\n",
    "x = layers.Flatten()(x)\n",
    "outputs = layers.Dense(10, activation=\"softmax\")(x)\n",
    "\n",
    "def create_model(inputs,outputs):\n",
    "    model = keras.Model(inputs=inputs, outputs=outputs)\n",
    "    model.compile(optimizer=tf.keras.optimizers.Adam(learning_rate=0.001),\n",
    "    loss=\"sparse_categorical_crossentropy\",\n",
    "    metrics=[\"accuracy\"])\n",
    "    return model"
   ]
  },
  {
   "cell_type": "code",
   "execution_count": 14,
   "metadata": {
    "colab": {
     "base_uri": "https://localhost:8080/"
    },
    "id": "JnGY861Mfn-4",
    "outputId": "de4fb2ec-c60b-4a40-bd70-bb3820c25799",
    "scrolled": true
   },
   "outputs": [
    {
     "name": "stdout",
     "output_type": "stream",
     "text": [
      "Model: \"model_2\"\n",
      "_________________________________________________________________\n",
      "Layer (type)                 Output Shape              Param #   \n",
      "=================================================================\n",
      "input_2 (InputLayer)         [(None, 28, 28, 1)]       0         \n",
      "_________________________________________________________________\n",
      "conv2d_3 (Conv2D)            (None, 26, 26, 64)        640       \n",
      "_________________________________________________________________\n",
      "batch_normalization_1 (Batch (None, 26, 26, 64)        256       \n",
      "_________________________________________________________________\n",
      "max_pooling2d_2 (MaxPooling2 (None, 13, 13, 64)        0         \n",
      "_________________________________________________________________\n",
      "dropout_2 (Dropout)          (None, 13, 13, 64)        0         \n",
      "_________________________________________________________________\n",
      "conv2d_transpose_1 (Conv2DTr (None, 13, 13, 32)        18464     \n",
      "_________________________________________________________________\n",
      "conv2d_4 (Conv2D)            (None, 11, 11, 64)        18496     \n",
      "_________________________________________________________________\n",
      "max_pooling2d_3 (MaxPooling2 (None, 5, 5, 64)          0         \n",
      "_________________________________________________________________\n",
      "dropout_3 (Dropout)          (None, 5, 5, 64)          0         \n",
      "_________________________________________________________________\n",
      "conv2d_5 (Conv2D)            (None, 3, 3, 128)         73856     \n",
      "_________________________________________________________________\n",
      "flatten_1 (Flatten)          (None, 1152)              0         \n",
      "_________________________________________________________________\n",
      "dense_1 (Dense)              (None, 10)                11530     \n",
      "=================================================================\n",
      "Total params: 123,242\n",
      "Trainable params: 123,114\n",
      "Non-trainable params: 128\n",
      "_________________________________________________________________\n"
     ]
    }
   ],
   "source": [
    "model = keras.Model(inputs=inputs, outputs=outputs)\n",
    "model.summary()"
   ]
  },
  {
   "cell_type": "markdown",
   "metadata": {},
   "source": [
    "The kfold.split() method generates indices to split the data into training and test sets for each fold of the cross-validation. The model.fit() method is then used to train the model on training data for each fold again and again."
   ]
  },
  {
   "cell_type": "markdown",
   "metadata": {},
   "source": [
    "Using callbacks to act on a model during training for earlystopping and model check point."
   ]
  },
  {
   "cell_type": "code",
   "execution_count": 15,
   "metadata": {
    "id": "2agV2-rVc5nE"
   },
   "outputs": [
    {
     "name": "stdout",
     "output_type": "stream",
     "text": [
      "Epoch 1/20\n",
      "176/176 [==============================] - 60s 338ms/step - loss: 2.1158 - accuracy: 0.2295 - val_loss: 2.2621 - val_accuracy: 0.1869\n",
      "Epoch 2/20\n",
      "176/176 [==============================] - 58s 331ms/step - loss: 1.7229 - accuracy: 0.3969 - val_loss: 2.0900 - val_accuracy: 0.3043\n",
      "Epoch 3/20\n",
      "176/176 [==============================] - 58s 329ms/step - loss: 1.4612 - accuracy: 0.4949 - val_loss: 1.7633 - val_accuracy: 0.4975\n",
      "Epoch 4/20\n",
      "176/176 [==============================] - 59s 334ms/step - loss: 1.3507 - accuracy: 0.5370 - val_loss: 1.5119 - val_accuracy: 0.5082\n",
      "Epoch 5/20\n",
      "176/176 [==============================] - 58s 331ms/step - loss: 1.2863 - accuracy: 0.5571 - val_loss: 1.2384 - val_accuracy: 0.5874\n",
      "Epoch 6/20\n",
      "176/176 [==============================] - 58s 329ms/step - loss: 1.2283 - accuracy: 0.5767 - val_loss: 1.1721 - val_accuracy: 0.5955\n",
      "Epoch 7/20\n",
      "176/176 [==============================] - 58s 327ms/step - loss: 1.1885 - accuracy: 0.5942 - val_loss: 1.1375 - val_accuracy: 0.6185\n",
      "Epoch 8/20\n",
      "176/176 [==============================] - 58s 328ms/step - loss: 1.1706 - accuracy: 0.5984 - val_loss: 1.0877 - val_accuracy: 0.6295\n",
      "Epoch 9/20\n",
      "176/176 [==============================] - 58s 330ms/step - loss: 1.1528 - accuracy: 0.6036 - val_loss: 1.0949 - val_accuracy: 0.6265\n",
      "Epoch 1/20\n",
      "176/176 [==============================] - 59s 334ms/step - loss: 1.1409 - accuracy: 0.6076 - val_loss: 1.0079 - val_accuracy: 0.6587\n",
      "Epoch 2/20\n",
      "176/176 [==============================] - 57s 323ms/step - loss: 1.1094 - accuracy: 0.6197 - val_loss: 0.9954 - val_accuracy: 0.6553\n",
      "Epoch 1/20\n",
      "176/176 [==============================] - 59s 331ms/step - loss: 1.0991 - accuracy: 0.6255 - val_loss: 0.9757 - val_accuracy: 0.6643\n",
      "Epoch 2/20\n",
      "176/176 [==============================] - 57s 326ms/step - loss: 1.0765 - accuracy: 0.6300 - val_loss: 0.9698 - val_accuracy: 0.6679\n",
      "Epoch 3/20\n",
      "176/176 [==============================] - 58s 328ms/step - loss: 1.0651 - accuracy: 0.6352 - val_loss: 0.9602 - val_accuracy: 0.6647\n",
      "Epoch 1/20\n",
      "176/176 [==============================] - 59s 331ms/step - loss: 1.0886 - accuracy: 0.6256 - val_loss: 0.9271 - val_accuracy: 0.6808\n",
      "Epoch 2/20\n",
      "176/176 [==============================] - 58s 328ms/step - loss: 1.0557 - accuracy: 0.6372 - val_loss: 0.9373 - val_accuracy: 0.6789\n"
     ]
    }
   ],
   "source": [
    "from sklearn.model_selection import KFold\n",
    "\n",
    "kfold = KFold(n_splits=4, shuffle=True)\n",
    "\n",
    "\n",
    "\n",
    "callbacks_list = [\n",
    "    keras.callbacks.EarlyStopping(\n",
    "    monitor='val_accuracy',\n",
    "    patience=1,\n",
    "    ),\n",
    "    keras.callbacks.ModelCheckpoint(\n",
    "    filepath='Final_model_cv_new.h5',\n",
    "    monitor='val_loss',\n",
    "    save_best_only=True,\n",
    "    )\n",
    "]\n",
    "\n",
    "\n",
    "for train, test in kfold.split(X_train, y_train): \n",
    "    model = create_model(inputs,outputs)\n",
    "    history = model.fit(X_train[train], \n",
    "            y_train[train],\n",
    "            epochs=20, \n",
    "            validation_data=(X_train[test], y_train[test]),\n",
    "            callbacks=callbacks_list,\n",
    "            batch_size=256)"
   ]
  },
  {
   "cell_type": "code",
   "execution_count": 18,
   "metadata": {},
   "outputs": [],
   "source": [
    "# model.evaluate(X_test,y_test)"
   ]
  }
 ],
 "metadata": {
  "accelerator": "GPU",
  "colab": {
   "provenance": []
  },
  "gpuClass": "standard",
  "kernelspec": {
   "display_name": "Python 3",
   "language": "python",
   "name": "python3"
  },
  "language_info": {
   "codemirror_mode": {
    "name": "ipython",
    "version": 3
   },
   "file_extension": ".py",
   "mimetype": "text/x-python",
   "name": "python",
   "nbconvert_exporter": "python",
   "pygments_lexer": "ipython3",
   "version": "3.6.8"
  }
 },
 "nbformat": 4,
 "nbformat_minor": 1
}
